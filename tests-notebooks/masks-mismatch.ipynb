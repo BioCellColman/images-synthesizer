{
 "cells": [
  {
   "cell_type": "code",
   "execution_count": 29,
   "metadata": {
    "collapsed": true
   },
   "outputs": [],
   "source": [
    "from handlers import files_handler\n",
    "from handlers import image_handler\n",
    "from handlers import label_handler\n",
    "import pandas as pd\n",
    "import numpy as np\n",
    "import random\n",
    "from skimage import io\n",
    "from utils import utils\n",
    "import matplotlib.pyplot as plt\n",
    "from utils.consts import *"
   ]
  },
  {
   "cell_type": "code",
   "execution_count": 30,
   "outputs": [
    {
     "data": {
      "text/plain": "                     src_img_name                               mask_id  \\\n0  r02c02f01p01-ch4sk1fk1fl1.tiff  7c06eb5e-78ab-4d46-89ab-0ce12a17ddf7   \n1  r02c02f01p01-ch4sk1fk1fl1.tiff  363564ce-e7df-48e8-9c1a-89585a9edb14   \n2  r02c02f01p01-ch4sk1fk1fl1.tiff  699c5a49-003a-431f-a17c-bcd540e2ec63   \n3  r02c02f01p01-ch4sk1fk1fl1.tiff  572e1c9e-3206-4763-b03a-5361777925a4   \n4  r02c02f01p01-ch4sk1fk1fl1.tiff  2bc31376-ff76-4731-bf26-c81635bed2e7   \n\n   left_x  right_x  top_y  bottom_y  cell_id_cp  \n0       4       23    365       376           1  \n1      11       24    203       214           4  \n2      23       36     33        50           6  \n3      26       43    395       414           7  \n4      24       43    431       446          10  ",
      "text/html": "<div>\n<style scoped>\n    .dataframe tbody tr th:only-of-type {\n        vertical-align: middle;\n    }\n\n    .dataframe tbody tr th {\n        vertical-align: top;\n    }\n\n    .dataframe thead th {\n        text-align: right;\n    }\n</style>\n<table border=\"1\" class=\"dataframe\">\n  <thead>\n    <tr style=\"text-align: right;\">\n      <th></th>\n      <th>src_img_name</th>\n      <th>mask_id</th>\n      <th>left_x</th>\n      <th>right_x</th>\n      <th>top_y</th>\n      <th>bottom_y</th>\n      <th>cell_id_cp</th>\n    </tr>\n  </thead>\n  <tbody>\n    <tr>\n      <th>0</th>\n      <td>r02c02f01p01-ch4sk1fk1fl1.tiff</td>\n      <td>7c06eb5e-78ab-4d46-89ab-0ce12a17ddf7</td>\n      <td>4</td>\n      <td>23</td>\n      <td>365</td>\n      <td>376</td>\n      <td>1</td>\n    </tr>\n    <tr>\n      <th>1</th>\n      <td>r02c02f01p01-ch4sk1fk1fl1.tiff</td>\n      <td>363564ce-e7df-48e8-9c1a-89585a9edb14</td>\n      <td>11</td>\n      <td>24</td>\n      <td>203</td>\n      <td>214</td>\n      <td>4</td>\n    </tr>\n    <tr>\n      <th>2</th>\n      <td>r02c02f01p01-ch4sk1fk1fl1.tiff</td>\n      <td>699c5a49-003a-431f-a17c-bcd540e2ec63</td>\n      <td>23</td>\n      <td>36</td>\n      <td>33</td>\n      <td>50</td>\n      <td>6</td>\n    </tr>\n    <tr>\n      <th>3</th>\n      <td>r02c02f01p01-ch4sk1fk1fl1.tiff</td>\n      <td>572e1c9e-3206-4763-b03a-5361777925a4</td>\n      <td>26</td>\n      <td>43</td>\n      <td>395</td>\n      <td>414</td>\n      <td>7</td>\n    </tr>\n    <tr>\n      <th>4</th>\n      <td>r02c02f01p01-ch4sk1fk1fl1.tiff</td>\n      <td>2bc31376-ff76-4731-bf26-c81635bed2e7</td>\n      <td>24</td>\n      <td>43</td>\n      <td>431</td>\n      <td>446</td>\n      <td>10</td>\n    </tr>\n  </tbody>\n</table>\n</div>"
     },
     "execution_count": 30,
     "metadata": {},
     "output_type": "execute_result"
    }
   ],
   "source": [
    "df = pd.read_csv(files_handler.get_csv_file_path())\n",
    "df.head()"
   ],
   "metadata": {
    "collapsed": false,
    "pycharm": {
     "name": "#%%\n"
    }
   }
  },
  {
   "cell_type": "code",
   "execution_count": 31,
   "outputs": [
    {
     "name": "stdout",
     "output_type": "stream",
     "text": [
      "index: 0\n",
      "index: 1000\n",
      "index: 2000\n",
      "index: 3000\n",
      "index: 4000\n",
      "index: 5000\n",
      "index: 6000\n",
      "index: 7000\n",
      "index: 8000\n",
      "index: 9000\n",
      "index: 10000\n",
      "index: 11000\n",
      "index: 12000\n",
      "index: 13000\n"
     ]
    }
   ],
   "source": [
    "bad_masks = []\n",
    "for index, row in df.iterrows():\n",
    "    mask_img = utils.read_mask_by_id(row.mask_id)\n",
    "    height = row.right_x - row.left_x + 2 * MASK_PADDING\n",
    "    width = row.bottom_y - row.top_y + 2 * MASK_PADDING\n",
    "    if index % 1000 == 0:\n",
    "        print(f\"index: {index}\")\n",
    "    if mask_img.shape[0] != height or mask_img.shape[1] != width:\n",
    "        bad_masks.append(row.mask_id)"
   ],
   "metadata": {
    "collapsed": false,
    "pycharm": {
     "name": "#%%\n"
    }
   }
  },
  {
   "cell_type": "code",
   "execution_count": 32,
   "outputs": [
    {
     "data": {
      "text/plain": "39"
     },
     "execution_count": 32,
     "metadata": {},
     "output_type": "execute_result"
    }
   ],
   "source": [
    "len(bad_masks)"
   ],
   "metadata": {
    "collapsed": false,
    "pycharm": {
     "name": "#%%\n"
    }
   }
  },
  {
   "cell_type": "code",
   "execution_count": 33,
   "outputs": [
    {
     "name": "stdout",
     "output_type": "stream",
     "text": [
      "f5802c6c-0021-45d1-824e-214a1df2fb79\n",
      "49142575-0133-407e-afde-26c0a43a83a1\n",
      "e4b06374-433f-4115-b5b8-c49353090cda\n",
      "58c69a1d-2598-4316-bd1e-d975161e83c2\n",
      "aacde1c0-9dd3-4823-a884-427953bb85e7\n",
      "9bd4500c-a99d-4c03-8658-ca7383e101c1\n",
      "73ee2283-a11d-4896-8976-0b8c5c1156ed\n",
      "012edde1-66ad-4d5b-ba99-2687bfd8ce09\n",
      "d44fc09d-94d9-489e-8aa3-02f9a14c6f4e\n",
      "237229db-7e39-40b4-9d5c-6acbb5411083\n",
      "f243c6e3-cb0f-4e14-b382-1991097f8cb8\n",
      "84c936c1-51ea-4ab1-810a-31b5cd2831e5\n",
      "da50ec41-e4e1-4993-ade9-390b4926f478\n",
      "d3139e84-bfaf-4028-8975-695fa178e58b\n",
      "9116e319-ad7b-4756-8709-c26a75d246de\n",
      "c6c7f1c6-45a2-4c3f-81f4-8d1de977ece8\n",
      "631f1b68-feab-4ce3-8b2a-9e83ea6518c7\n",
      "7fc36a08-b941-46a5-961c-59e5e464b05d\n",
      "ef73a0a4-fb77-430a-893d-f3d3b0341a2a\n",
      "ef5c13b1-89a1-4d6f-bcb0-9b81693a44e1\n",
      "4b950a00-8a07-49f8-88f8-5ebabbbbd462\n",
      "a77ade5b-2ed3-4df7-80f9-d1d39cf7adf7\n",
      "26bcfc59-4334-4583-8ede-62413de0fc91\n",
      "dbab6e39-5746-4234-a4dd-1839b9c6eacd\n",
      "327d6542-4f94-4d0c-922c-16b100e86a04\n",
      "94e87f2f-9757-4c9e-a1f4-9aa23b343196\n",
      "bdbb4cbe-7161-4486-8d71-eef7a7ec126a\n",
      "8296264c-ab62-4440-a745-adfdd9962101\n",
      "37c7ff16-5757-4620-b63e-0871fdfef293\n",
      "9593e538-62a3-4882-ba03-b3b63e3def4c\n",
      "da1ace5e-57dd-484a-9519-bf8d16332c35\n",
      "8819c2c1-b26d-4bb0-a42c-c7f2a5153923\n",
      "bd10a1eb-632b-445f-bf32-4fcda716368c\n",
      "1aa2b2e1-931b-4862-a850-7e420bba0193\n",
      "a0230e58-1f74-439a-b281-68da24b66abb\n",
      "06b79d9f-b629-45e5-b343-b88f74e6944e\n",
      "f723526a-6979-4788-b532-52db2bd2f486\n",
      "c8764ecd-81a9-4874-88d5-722d7c6290b1\n",
      "3981cc69-f960-431c-8959-115a16944873\n"
     ]
    }
   ],
   "source": [
    "for mask_name in bad_masks:\n",
    "    print(mask_name)\n",
    "\n"
   ],
   "metadata": {
    "collapsed": false,
    "pycharm": {
     "name": "#%%\n"
    }
   }
  },
  {
   "cell_type": "code",
   "execution_count": 38,
   "outputs": [
    {
     "data": {
      "text/plain": "13330"
     },
     "execution_count": 38,
     "metadata": {},
     "output_type": "execute_result"
    }
   ],
   "source": [
    "filtered = df[~df.mask_id.isin(bad_masks)]\n",
    "len(filtered)"
   ],
   "metadata": {
    "collapsed": false,
    "pycharm": {
     "name": "#%%\n"
    }
   }
  }
 ],
 "metadata": {
  "kernelspec": {
   "display_name": "Python 3",
   "language": "python",
   "name": "python3"
  },
  "language_info": {
   "codemirror_mode": {
    "name": "ipython",
    "version": 2
   },
   "file_extension": ".py",
   "mimetype": "text/x-python",
   "name": "python",
   "nbconvert_exporter": "python",
   "pygments_lexer": "ipython2",
   "version": "2.7.6"
  }
 },
 "nbformat": 4,
 "nbformat_minor": 0
}